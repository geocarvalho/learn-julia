{
 "cells": [
  {
   "cell_type": "markdown",
   "metadata": {},
   "source": [
    "# Using Julia for descriptive statistics"
   ]
  },
  {
   "cell_type": "code",
   "execution_count": 1,
   "metadata": {},
   "outputs": [
    {
     "name": "stderr",
     "output_type": "stream",
     "text": [
      "┌ Info: Precompiling Distributions [31c24e10-a181-5473-b8eb-7969acd0382f]\n",
      "└ @ Base loading.jl:1278\n",
      "┌ Info: Precompiling CSV [336ed68f-0bac-5ca0-87d4-7b16caf5d00b]\n",
      "└ @ Base loading.jl:1278\n",
      "┌ Info: Precompiling HypothesisTests [09f84164-cd44-5f33-b23f-e6b0d136a0d5]\n",
      "└ @ Base loading.jl:1278\n",
      "┌ Info: Precompiling StatPlots [60ddc479-9b66-56df-82fc-76a74619b69c]\n",
      "└ @ Base loading.jl:1278\n",
      "┌ Warning: `@nodeps` is deprecated. Simply use e.g. `Widgets.dropdown(x)` instead of `Widgets.@nodeps dropdown(x)`.\n",
      "└ @ Widgets ~/.julia/packages/Widgets/451tD/src/utils.jl:63\n",
      "┌ Warning: `@nodeps` is deprecated. Simply use e.g. `Widgets.dropdown(x)` instead of `Widgets.@nodeps dropdown(x)`.\n",
      "└ @ Widgets ~/.julia/packages/Widgets/451tD/src/utils.jl:63\n",
      "┌ Warning: `@nodeps` is deprecated. Simply use e.g. `Widgets.dropdown(x)` instead of `Widgets.@nodeps dropdown(x)`.\n",
      "└ @ Widgets ~/.julia/packages/Widgets/451tD/src/utils.jl:63\n",
      "┌ Warning: `@nodeps` is deprecated. Simply use e.g. `Widgets.dropdown(x)` instead of `Widgets.@nodeps dropdown(x)`.\n",
      "└ @ Widgets ~/.julia/packages/Widgets/451tD/src/utils.jl:63\n",
      "┌ Warning: `@nodeps` is deprecated. Simply use e.g. `Widgets.dropdown(x)` instead of `Widgets.@nodeps dropdown(x)`.\n",
      "└ @ Widgets ~/.julia/packages/Widgets/451tD/src/utils.jl:63\n",
      "┌ Warning: `@nodeps` is deprecated. Simply use e.g. `Widgets.dropdown(x)` instead of `Widgets.@nodeps dropdown(x)`.\n",
      "└ @ Widgets ~/.julia/packages/Widgets/451tD/src/utils.jl:63\n",
      "┌ Warning: `@nodeps` is deprecated. Simply use e.g. `Widgets.dropdown(x)` instead of `Widgets.@nodeps dropdown(x)`.\n",
      "└ @ Widgets ~/.julia/packages/Widgets/451tD/src/utils.jl:63\n",
      "┌ Warning: `@nodeps` is deprecated. Simply use e.g. `Widgets.dropdown(x)` instead of `Widgets.@nodeps dropdown(x)`.\n",
      "└ @ Widgets ~/.julia/packages/Widgets/451tD/src/utils.jl:63\n"
     ]
    },
    {
     "name": "stdout",
     "output_type": "stream",
     "text": [
      "\n",
      "This package has been renamed to StatsPlots.\n",
      "The name StatPlots has been deprecated.\n",
      "\n",
      "Please run\n",
      "\n",
      "`]rm StatPlots`\n",
      "`]add StatsPlots`\n",
      "\n",
      "Failure to update will mean that you do not receive new developments.\n",
      "\n"
     ]
    },
    {
     "name": "stderr",
     "output_type": "stream",
     "text": [
      "┌ Info: Precompiling GLM [38e38edf-8417-5370-95a0-9cbb8c7f171a]\n",
      "└ @ Base loading.jl:1278\n",
      "┌ Info: Precompiling PyPlot [d330b81b-6aea-500a-939a-2ce795aea3ee]\n",
      "└ @ Base loading.jl:1278\n"
     ]
    },
    {
     "data": {
      "text/plain": [
       "Plots.PyPlotBackend()"
      ]
     },
     "execution_count": 1,
     "metadata": {},
     "output_type": "execute_result"
    }
   ],
   "source": [
    "using Distributions # create random variables\n",
    "using StatsBase # basic statistical support\n",
    "using CSV # reading and writing csv files\n",
    "using DataFrames # create a data structure\n",
    "using HypothesisTests # perform statistical tests\n",
    "using StatPlots \n",
    "using GLM # general linear models\n",
    "pyplot()"
   ]
  },
  {
   "cell_type": "markdown",
   "metadata": {},
   "source": [
    "## Creating random variable"
   ]
  },
  {
   "cell_type": "code",
   "execution_count": null,
   "metadata": {},
   "outputs": [],
   "source": []
  }
 ],
 "metadata": {
  "kernelspec": {
   "display_name": "Julia 1.5.0",
   "language": "julia",
   "name": "julia-1.5"
  },
  "language_info": {
   "file_extension": ".jl",
   "mimetype": "application/julia",
   "name": "julia",
   "version": "1.5.0"
  }
 },
 "nbformat": 4,
 "nbformat_minor": 4
}
