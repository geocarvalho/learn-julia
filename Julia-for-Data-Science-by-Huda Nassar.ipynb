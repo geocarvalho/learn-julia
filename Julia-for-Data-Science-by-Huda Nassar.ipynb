{
 "cells": [
  {
   "cell_type": "markdown",
   "metadata": {},
   "source": [
    "# Julia for Data Science by Huda Nassar\n",
    "\n",
    "## [Julia for Data Science - Video 1: Data, by Dr. Huda Nassar (for JuliaAcademy.com)](https://www.youtube.com/watch?v=iG1dZBaxS-U&list=PLP8iPy9hna6QuDTt11Xxonnfal91JhqjO&index=2)\n",
    "\n",
    "## Data"
   ]
  },
  {
   "cell_type": "code",
   "execution_count": 3,
   "metadata": {
    "tags": []
   },
   "outputs": [],
   "source": [
    "using BenchmarkTools\n",
    "using DataFrames\n",
    "using DelimitedFiles\n",
    "using CSV\n",
    "using XLSX"
   ]
  },
  {
   "cell_type": "markdown",
   "metadata": {},
   "source": [
    "# Get some data    "
   ]
  },
  {
   "cell_type": "code",
   "execution_count": 9,
   "metadata": {
    "tags": []
   },
   "outputs": [
    {
     "output_type": "stream",
     "name": "stdout",
     "text": "search:\u001b[0m\u001b[1md\u001b[22m\u001b[0m\u001b[1mo\u001b[22m\u001b[0m\u001b[1mw\u001b[22m\u001b[0m\u001b[1mn\u001b[22m\u001b[0m\u001b[1ml\u001b[22m\u001b[0m\u001b[1mo\u001b[22m\u001b[0m\u001b[1ma\u001b[22m\u001b[0m\u001b[1md\u001b[22m\n\n"
    },
    {
     "output_type": "execute_result",
     "data": {
      "text/plain": "\u001b[36m  download(url::AbstractString, [localfile::AbstractString])\u001b[39m\n\n  Download a file from the given url, optionally renaming it to the given\n  local file name. If no filename is given this will download into a\n  randomly-named file in your temp directory. Note that this function relies\n  on the availability of external tools such as \u001b[36mcurl\u001b[39m, \u001b[36mwget\u001b[39m or \u001b[36mfetch\u001b[39m to\n  download the file and is provided for convenience. For production use or\n  situations in which more options are needed, please use a package that\n  provides the desired functionality instead.\n\n  Returns the filename of the downloaded file.",
      "text/markdown": "```\ndownload(url::AbstractString, [localfile::AbstractString])\n```\n\nDownload a file from the given url, optionally renaming it to the given local file name. If no filename is given this will download into a randomly-named file in your temp directory. Note that this function relies on the availability of external tools such as `curl`, `wget` or `fetch` to download the file and is provided for convenience. For production use or situations in which more options are needed, please use a package that provides the desired functionality instead.\n\nReturns the filename of the downloaded file.\n",
      "text/latex": "\\begin{verbatim}\ndownload(url::AbstractString, [localfile::AbstractString])\n\\end{verbatim}\nDownload a file from the given url, optionally renaming it to the given local file name. If no filename is given this will download into a randomly-named file in your temp directory. Note that this function relies on the availability of external tools such as \\texttt{curl}, \\texttt{wget} or \\texttt{fetch} to download the file and is provided for convenience. For production use or situations in which more options are needed, please use a package that provides the desired functionality instead.\n\nReturns the filename of the downloaded file.\n\n"
     },
     "metadata": {},
     "execution_count": 9
    }
   ],
   "source": [
    "?download"
   ]
  },
  {
   "cell_type": "code",
   "execution_count": 2,
   "metadata": {},
   "outputs": [
    {
     "output_type": "execute_result",
     "data": {
      "text/plain": "\"programminglanguages.csv\""
     },
     "metadata": {},
     "execution_count": 2
    }
   ],
   "source": [
    "P = download(\"https://raw.githubusercontent.com/nassarhuda/easy_data/master/programming_languages.csv\",\n",
    "    \"programminglanguages.csv\")"
   ]
  },
  {
   "cell_type": "code",
   "execution_count": 10,
   "metadata": {},
   "outputs": [
    {
     "output_type": "error",
     "ename": "LoadError",
     "evalue": "syntax: extra token \"\"\" after end of expression",
     "traceback": [
      "syntax: extra token \"\"\" after end of expression",
      "",
      "Stacktrace:",
      " [1] top-level scope at In[10]:2",
      " [2] include_string(::Function, ::Module, ::String, ::String) at ./loading.jl:1091"
     ]
    }
   ],
   "source": [
    "# we could do the same with wget\n",
    ";wget \"https://raw.githubusercontent.com/nassarhuda/easy_data/master/programming_languages.csv\""
   ]
  },
  {
   "cell_type": "markdown",
   "metadata": {},
   "source": [
    "# Read your data file"
   ]
  },
  {
   "cell_type": "code",
   "execution_count": 11,
   "metadata": {
    "tags": []
   },
   "outputs": [
    {
     "output_type": "stream",
     "name": "stdout",
     "text": "year,language\n1951,Regional Assembly Language\n1952,Autocode\n1954,IPL\n1955,FLOW-MATIC\n1957,FORTRAN\n1957,COMTRAN\n1958,LISP\n1958,ALGOL 58\n1959,FACT\n"
    }
   ],
   "source": [
    ";head programminglanguages.csv"
   ]
  },
  {
   "cell_type": "code",
   "execution_count": 15,
   "metadata": {},
   "outputs": [],
   "source": [
    "P,H = readdlm(\"programminglanguages.csv\", ',';header=true);"
   ]
  },
  {
   "cell_type": "code",
   "execution_count": 16,
   "metadata": {},
   "outputs": [
    {
     "output_type": "execute_result",
     "data": {
      "text/plain": "1×2 Array{AbstractString,2}:\n \"year\"  \"language\""
     },
     "metadata": {},
     "execution_count": 16
    }
   ],
   "source": [
    "H"
   ]
  },
  {
   "cell_type": "code",
   "execution_count": 17,
   "metadata": {},
   "outputs": [
    {
     "output_type": "execute_result",
     "data": {
      "text/plain": "73×2 Array{Any,2}:\n 1951  \"Regional Assembly Language\"\n 1952  \"Autocode\"\n 1954  \"IPL\"\n 1955  \"FLOW-MATIC\"\n 1957  \"FORTRAN\"\n 1957  \"COMTRAN\"\n 1958  \"LISP\"\n 1958  \"ALGOL 58\"\n 1959  \"FACT\"\n 1959  \"COBOL\"\n 1959  \"RPG\"\n 1962  \"APL\"\n 1962  \"Simula\"\n    ⋮  \n 2003  \"Scala\"\n 2005  \"F#\"\n 2006  \"PowerShell\"\n 2007  \"Clojure\"\n 2009  \"Go\"\n 2010  \"Rust\"\n 2011  \"Dart\"\n 2011  \"Kotlin\"\n 2011  \"Red\"\n 2011  \"Elixir\"\n 2012  \"Julia\"\n 2014  \"Swift\""
     },
     "metadata": {},
     "execution_count": 17
    }
   ],
   "source": [
    "P"
   ]
  },
  {
   "cell_type": "code",
   "execution_count": 19,
   "metadata": {},
   "outputs": [],
   "source": [
    "# To write a text file, you can:\n",
    "writedlm(\"programminglanguages_dlm.txt\", P, '-')"
   ]
  },
  {
   "cell_type": "markdown",
   "metadata": {},
   "source": [
    "- `CSV` lib is the recommended, just use `DelimitedFiles` when you have a complicated file and you need to specify several things "
   ]
  },
  {
   "cell_type": "code",
   "execution_count": 20,
   "metadata": {},
   "outputs": [],
   "source": [
    "C = CSV.read(\"programminglanguages.csv\");"
   ]
  },
  {
   "cell_type": "code",
   "execution_count": 24,
   "metadata": {
    "tags": []
   },
   "outputs": [
    {
     "output_type": "stream",
     "name": "stdout",
     "text": "typeof(C) = DataFrame\n"
    },
    {
     "output_type": "execute_result",
     "data": {
      "text/plain": "10×2 DataFrame\n│ Row │ year  │ language                   │\n│     │ \u001b[90mInt64\u001b[39m │ \u001b[90mString\u001b[39m                     │\n├─────┼───────┼────────────────────────────┤\n│ 1   │ 1951  │ Regional Assembly Language │\n│ 2   │ 1952  │ Autocode                   │\n│ 3   │ 1954  │ IPL                        │\n│ 4   │ 1955  │ FLOW-MATIC                 │\n│ 5   │ 1957  │ FORTRAN                    │\n│ 6   │ 1957  │ COMTRAN                    │\n│ 7   │ 1958  │ LISP                       │\n│ 8   │ 1958  │ ALGOL 58                   │\n│ 9   │ 1959  │ FACT                       │\n│ 10  │ 1959  │ COBOL                      │",
      "text/html": "<table class=\"data-frame\"><thead><tr><th></th><th>year</th><th>language</th></tr><tr><th></th><th>Int64</th><th>String</th></tr></thead><tbody><p>10 rows × 2 columns</p><tr><th>1</th><td>1951</td><td>Regional Assembly Language</td></tr><tr><th>2</th><td>1952</td><td>Autocode</td></tr><tr><th>3</th><td>1954</td><td>IPL</td></tr><tr><th>4</th><td>1955</td><td>FLOW-MATIC</td></tr><tr><th>5</th><td>1957</td><td>FORTRAN</td></tr><tr><th>6</th><td>1957</td><td>COMTRAN</td></tr><tr><th>7</th><td>1958</td><td>LISP</td></tr><tr><th>8</th><td>1958</td><td>ALGOL 58</td></tr><tr><th>9</th><td>1959</td><td>FACT</td></tr><tr><th>10</th><td>1959</td><td>COBOL</td></tr></tbody></table>",
      "text/latex": "\\begin{tabular}{r|cc}\n\t& year & language\\\\\n\t\\hline\n\t& Int64 & String\\\\\n\t\\hline\n\t1 & 1951 & Regional Assembly Language \\\\\n\t2 & 1952 & Autocode \\\\\n\t3 & 1954 & IPL \\\\\n\t4 & 1955 & FLOW-MATIC \\\\\n\t5 & 1957 & FORTRAN \\\\\n\t6 & 1957 & COMTRAN \\\\\n\t7 & 1958 & LISP \\\\\n\t8 & 1958 & ALGOL 58 \\\\\n\t9 & 1959 & FACT \\\\\n\t10 & 1959 & COBOL \\\\\n\\end{tabular}\n"
     },
     "metadata": {},
     "execution_count": 24
    }
   ],
   "source": [
    "@show typeof(C)\n",
    "C[1:10,:]"
   ]
  },
  {
   "cell_type": "code",
   "execution_count": 25,
   "metadata": {
    "tags": []
   },
   "outputs": [
    {
     "output_type": "stream",
     "name": "stdout",
     "text": "typeof(P) = Array{Any,2}\n"
    },
    {
     "output_type": "execute_result",
     "data": {
      "text/plain": "10×2 Array{Any,2}:\n 1951  \"Regional Assembly Language\"\n 1952  \"Autocode\"\n 1954  \"IPL\"\n 1955  \"FLOW-MATIC\"\n 1957  \"FORTRAN\"\n 1957  \"COMTRAN\"\n 1958  \"LISP\"\n 1958  \"ALGOL 58\"\n 1959  \"FACT\"\n 1959  \"COBOL\""
     },
     "metadata": {},
     "execution_count": 25
    }
   ],
   "source": [
    "@show typeof(P)\n",
    "P[1:10,:]"
   ]
  },
  {
   "cell_type": "code",
   "execution_count": 26,
   "metadata": {},
   "outputs": [
    {
     "output_type": "execute_result",
     "data": {
      "text/plain": "73-element Array{Int64,1}:\n 1951\n 1952\n 1954\n 1955\n 1957\n 1957\n 1958\n 1958\n 1959\n 1959\n 1959\n 1962\n 1962\n    ⋮\n 2003\n 2005\n 2006\n 2007\n 2009\n 2010\n 2011\n 2011\n 2011\n 2011\n 2012\n 2014"
     },
     "metadata": {},
     "execution_count": 26
    }
   ],
   "source": [
    "C.year"
   ]
  },
  {
   "cell_type": "code",
   "execution_count": 27,
   "metadata": {},
   "outputs": [
    {
     "output_type": "execute_result",
     "data": {
      "text/plain": "2-element Array{String,1}:\n \"year\"\n \"language\""
     },
     "metadata": {},
     "execution_count": 27
    }
   ],
   "source": [
    "names(C)"
   ]
  },
  {
   "cell_type": "code",
   "execution_count": 28,
   "metadata": {},
   "outputs": [
    {
     "output_type": "execute_result",
     "data": {
      "text/plain": "2×8 DataFrame. Omitted printing of 2 columns\n│ Row │ variable │ mean    │ min      │ median │ max       │ nunique │\n│     │ \u001b[90mSymbol\u001b[39m   │ \u001b[90mUnion…\u001b[39m  │ \u001b[90mAny\u001b[39m      │ \u001b[90mUnion…\u001b[39m │ \u001b[90mAny\u001b[39m       │ \u001b[90mUnion…\u001b[39m  │\n├─────┼──────────┼─────────┼──────────┼────────┼───────────┼─────────┤\n│ 1   │ year     │ 1982.99 │ 1951     │ 1986.0 │ 2014      │         │\n│ 2   │ language │         │ ALGOL 58 │        │ dBase III │ 73      │",
      "text/html": "<table class=\"data-frame\"><thead><tr><th></th><th>variable</th><th>mean</th><th>min</th><th>median</th><th>max</th><th>nunique</th><th>nmissing</th><th>eltype</th></tr><tr><th></th><th>Symbol</th><th>Union…</th><th>Any</th><th>Union…</th><th>Any</th><th>Union…</th><th>Nothing</th><th>DataType</th></tr></thead><tbody><p>2 rows × 8 columns</p><tr><th>1</th><td>year</td><td>1982.99</td><td>1951</td><td>1986.0</td><td>2014</td><td></td><td></td><td>Int64</td></tr><tr><th>2</th><td>language</td><td></td><td>ALGOL 58</td><td></td><td>dBase III</td><td>73</td><td></td><td>String</td></tr></tbody></table>",
      "text/latex": "\\begin{tabular}{r|cccccccc}\n\t& variable & mean & min & median & max & nunique & nmissing & eltype\\\\\n\t\\hline\n\t& Symbol & Union… & Any & Union… & Any & Union… & Nothing & DataType\\\\\n\t\\hline\n\t1 & year & 1982.99 & 1951 & 1986.0 & 2014 &  &  & Int64 \\\\\n\t2 & language &  & ALGOL 58 &  & dBase III & 73 &  & String \\\\\n\\end{tabular}\n"
     },
     "metadata": {},
     "execution_count": 28
    }
   ],
   "source": [
    "describe(C)"
   ]
  },
  {
   "cell_type": "code",
   "execution_count": 29,
   "metadata": {
    "tags": []
   },
   "outputs": [
    {
     "output_type": "stream",
     "name": "stdout",
     "text": "157.207 μs (324 allocations: 51.14 KiB)\n  40.181 μs (232 allocations: 22.20 KiB)\n"
    }
   ],
   "source": [
    "@btime P, H = readdlm(\"programminglanguages.csv\", ',';header=true);\n",
    "@btime C = CSV.read(\"programminglanguages.csv\");"
   ]
  },
  {
   "cell_type": "code",
   "execution_count": 32,
   "metadata": {},
   "outputs": [
    {
     "output_type": "execute_result",
     "data": {
      "text/plain": "\"programminglanguages_CSV.csv\""
     },
     "metadata": {},
     "execution_count": 32
    }
   ],
   "source": [
    "CSV.write(\"programminglanguages_CSV.csv\",DataFrame(P))"
   ]
  },
  {
   "cell_type": "markdown",
   "metadata": {},
   "source": [
    "* Another file type we often read is excel format `xlsx`"
   ]
  },
  {
   "cell_type": "code",
   "execution_count": 17,
   "metadata": {},
   "outputs": [
    {
     "output_type": "execute_result",
     "data": {
      "text/plain": "9×6 Array{Any,2}:\n      \"RegionID\"  \"RegionName\"    …      \"2008-03\"      \"2008-04\"\n  6181            \"New York\"             missing        missing\n 12447            \"Los Angeles\"      1446           1705\n 39051            \"Houston\"          2926           3121\n 17426            \"Chicago\"          2910           3022\n  6915            \"San Antonio\"   …  1479           1529\n 13271            \"Philadelphia\"     1609           1795\n 40326            \"Phoenix\"          1310           1519\n 18959            \"Las Vegas\"        1618           1856"
     },
     "metadata": {},
     "execution_count": 17
    }
   ],
   "source": [
    "T = XLSX.readdata(\"/home/george/git/learn-julia/data/zillow_data_download_april2020.xlsx\", \"Sale_counts_city\", \"A1:F9\")"
   ]
  },
  {
   "cell_type": "code",
   "execution_count": 18,
   "metadata": {},
   "outputs": [
    {
     "output_type": "execute_result",
     "data": {
      "text/plain": "(Any[Any[6181, 12447, 39051, 17426, 6915, 13271, 40326, 18959, 54296, 38128  …  396952, 397236, 398030, 398104, 398357, 398712, 398716, 399081, 737789, 760882], Any[\"New York\", \"Los Angeles\", \"Houston\", \"Chicago\", \"San Antonio\", \"Philadelphia\", \"Phoenix\", \"Las Vegas\", \"San Diego\", \"Dallas\"  …  \"Barnard Plantation\", \"Windsor Place\", \"Stockbridge\", \"Mattamiscontis\", \"Chase Stream\", \"Bowdoin College Grant West\", \"Summerset\", \"Long Pond\", \"Hideout\", \"Ebeemee\"], Any[\"New York\", \"California\", \"Texas\", \"Illinois\", \"Texas\", \"Pennsylvania\", \"Arizona\", \"Nevada\", \"California\", \"Texas\"  …  \"Maine\", \"Missouri\", \"Wisconsin\", \"Maine\", \"Maine\", \"Maine\", \"South Dakota\", \"Maine\", \"Utah\", \"Maine\"], Any[1, 2, 3, 4, 5, 6, 7, 8, 9, 10  …  28750, 28751, 28752, 28753, 28754, 28755, 28756, 28757, 28758, 28759], Any[missing, 1446, 2926, 2910, 1479, 1609, 1310, 1618, 772, 1158  …  0, 0, 0, 0, 0, 0, 0, 0, 1, 0], Any[missing, 1705, 3121, 3022, 1529, 1795, 1519, 1856, 1057, 1232  …  0, 0, 0, 0, 0, 0, 0, 0, 0, 0], Any[missing, 1795, 3220, 2937, 1582, 1709, 1654, 1961, 1195, 1240  …  0, 0, 0, 0, 0, 0, 2, 0, 0, 0], Any[missing, 1890, 3405, 3224, 1761, 1914, 1743, 2022, 1115, 1236  …  0, 0, 0, 0, 0, 0, 0, 0, 0, 0], Any[missing, 2072, 3352, 3464, 1678, 1984, 1975, 2219, 1272, 1392  …  0, 0, 0, 0, 0, 1, 1, 0, 0, 0], Any[missing, 1876, 2962, 3371, 1468, 1739, 1809, 2248, 1171, 1138  …  0, 0, 0, 0, 0, 0, 0, 0, 0, 0]  …  Any[3473, 2651, 3894, 3702, 2384, 2682, 3898, 3284, 1542, 1407  …  0, 0, 0, 0, 0, 2, 3, 0, 0, 0], Any[3900, 2504, 3511, 3549, 2242, 2270, 3570, 3058, 1433, 1235  …  0, 0, 2, 0, 0, 2, 6, 0, 1, 0], Any[4493, 2675, 3687, 3622, 2300, 2479, 3616, 3235, 1529, 1423  …  0, 0, 0, 0, 0, 3, 10, 0, 1, 0], Any[4266, 2759, 3414, 3619, 2233, 2503, 3581, 3254, 1479, 1266  …  0, missing, 0, 0, 0, 3, 5, 0, 2, 0], Any[4183, 2334, 2803, 2938, 1788, 2184, 3199, 2821, 1307, 1143  …  0, missing, 0, 0, 1, 1, 4, 0, 1, 0], Any[4232, 2594, 2969, 2930, 1917, 2337, 3189, 3097, 1356, 1239  …  0, missing, 0, 0, 0, missing, 8, 0, 2, 0], Any[3869, 2272, 2699, 2176, 1520, 1931, 2867, 2702, 1179, 1117  …  0, missing, 0, 0, 0, missing, 8, 0, missing, 0], Any[3938, 2394, 3338, 2866, 1876, 2192, 2934, 2810, 1276, 1315  …  0, missing, 0, 0, 0, missing, 5, 0, missing, 0], Any[4306, 2006, 2407, 2240, 1460, 2381, 2226, 2512, 1020, 1056  …  0, missing, 0, 0, 0, missing, 1, 0, missing, 1], Any[4054, 1522, 2682, 2100, 1626, 1620, 2325, 2547, missing, 1292  …  missing, missing, missing, missing, missing, missing, 2, 0, missing, 0]], [:RegionID, :RegionName, :StateName, :SizeRank, Symbol(\"2008-03\"), Symbol(\"2008-04\"), Symbol(\"2008-05\"), Symbol(\"2008-06\"), Symbol(\"2008-07\"), Symbol(\"2008-08\")  …  Symbol(\"2019-05\"), Symbol(\"2019-06\"), Symbol(\"2019-07\"), Symbol(\"2019-08\"), Symbol(\"2019-09\"), Symbol(\"2019-10\"), Symbol(\"2019-11\"), Symbol(\"2019-12\"), Symbol(\"2020-01\"), Symbol(\"2020-02\")])"
     },
     "metadata": {},
     "execution_count": 18
    }
   ],
   "source": [
    "G = XLSX.readtable(\"/home/george/git/learn-julia/data/zillow_data_download_april2020.xlsx\", \"Sale_counts_city\")"
   ]
  },
  {
   "cell_type": "markdown",
   "metadata": {},
   "source": [
    "- `G` is a tuple of two itens, the first is an vector of vectors where each vector corresponds to a column in the excel file and the second is the header"
   ]
  },
  {
   "cell_type": "code",
   "execution_count": 5,
   "metadata": {},
   "outputs": [
    {
     "output_type": "execute_result",
     "data": {
      "text/plain": "148-element Array{Any,1}:\n Any[6181, 12447, 39051, 17426, 6915, 13271, 40326, 18959, 54296, 38128  …  396952, 397236, 398030, 398104, 398357, 398712, 398716, 399081, 737789, 760882]\n Any[\"New York\", \"Los Angeles\", \"Houston\", \"Chicago\", \"San Antonio\", \"Philadelphia\", \"Phoenix\", \"Las Vegas\", \"San Diego\", \"Dallas\"  …  \"Barnard Plantation\", \"Windsor Place\", \"Stockbridge\", \"Mattamiscontis\", \"Chase Stream\", \"Bowdoin College Grant West\", \"Summerset\", \"Long Pond\", \"Hideout\", \"Ebeemee\"]\n Any[\"New York\", \"California\", \"Texas\", \"Illinois\", \"Texas\", \"Pennsylvania\", \"Arizona\", \"Nevada\", \"California\", \"Texas\"  …  \"Maine\", \"Missouri\", \"Wisconsin\", \"Maine\", \"Maine\", \"Maine\", \"South Dakota\", \"Maine\", \"Utah\", \"Maine\"]\n Any[1, 2, 3, 4, 5, 6, 7, 8, 9, 10  …  28750, 28751, 28752, 28753, 28754, 28755, 28756, 28757, 28758, 28759]\n Any[missing, 1446, 2926, 2910, 1479, 1609, 1310, 1618, 772, 1158  …  0, 0, 0, 0, 0, 0, 0, 0, 1, 0]\n Any[missing, 1705, 3121, 3022, 1529, 1795, 1519, 1856, 1057, 1232  …  0, 0, 0, 0, 0, 0, 0, 0, 0, 0]\n Any[missing, 1795, 3220, 2937, 1582, 1709, 1654, 1961, 1195, 1240  …  0, 0, 0, 0, 0, 0, 2, 0, 0, 0]\n Any[missing, 1890, 3405, 3224, 1761, 1914, 1743, 2022, 1115, 1236  …  0, 0, 0, 0, 0, 0, 0, 0, 0, 0]\n Any[missing, 2072, 3352, 3464, 1678, 1984, 1975, 2219, 1272, 1392  …  0, 0, 0, 0, 0, 1, 1, 0, 0, 0]\n Any[missing, 1876, 2962, 3371, 1468, 1739, 1809, 2248, 1171, 1138  …  0, 0, 0, 0, 0, 0, 0, 0, 0, 0]\n Any[missing, 1981, 2017, 2979, 1480, 1635, 1965, 2207, 1193, 1042  …  0, 0, 0, 0, 0, 0, 0, 0, 0, 0]\n Any[missing, 2195, 2595, 2869, 1475, 1598, 2074, 2372, 1319, 1089  …  0, 1, 0, 0, 0, 0, 0, 0, 0, 0]\n Any[missing, 1579, 1865, 1915, 949, 1169, 1435, 1880, 873, 772  …  0, 0, 0, 0, 1, 0, 0, 0, 0, 0]\n ⋮\n Any[3456, 2150, 3283, 2735, 1989, 1958, 3378, 2748, 1207, 1058  …  0, 1, 0, 1, 4, 0, 6, 0, 0, 0]\n Any[3652, 2537, 3620, 3197, 2137, 2177, 3728, 2959, 1384, 1221  …  0, 0, 0, 0, 0, 0, 4, 0, 0, 0]\n Any[3473, 2651, 3894, 3702, 2384, 2682, 3898, 3284, 1542, 1407  …  0, 0, 0, 0, 0, 2, 3, 0, 0, 0]\n Any[3900, 2504, 3511, 3549, 2242, 2270, 3570, 3058, 1433, 1235  …  0, 0, 2, 0, 0, 2, 6, 0, 1, 0]\n Any[4493, 2675, 3687, 3622, 2300, 2479, 3616, 3235, 1529, 1423  …  0, 0, 0, 0, 0, 3, 10, 0, 1, 0]\n Any[4266, 2759, 3414, 3619, 2233, 2503, 3581, 3254, 1479, 1266  …  0, missing, 0, 0, 0, 3, 5, 0, 2, 0]\n Any[4183, 2334, 2803, 2938, 1788, 2184, 3199, 2821, 1307, 1143  …  0, missing, 0, 0, 1, 1, 4, 0, 1, 0]\n Any[4232, 2594, 2969, 2930, 1917, 2337, 3189, 3097, 1356, 1239  …  0, missing, 0, 0, 0, missing, 8, 0, 2, 0]\n Any[3869, 2272, 2699, 2176, 1520, 1931, 2867, 2702, 1179, 1117  …  0, missing, 0, 0, 0, missing, 8, 0, missing, 0]\n Any[3938, 2394, 3338, 2866, 1876, 2192, 2934, 2810, 1276, 1315  …  0, missing, 0, 0, 0, missing, 5, 0, missing, 0]\n Any[4306, 2006, 2407, 2240, 1460, 2381, 2226, 2512, 1020, 1056  …  0, missing, 0, 0, 0, missing, 1, 0, missing, 1]\n Any[4054, 1522, 2682, 2100, 1626, 1620, 2325, 2547, missing, 1292  …  missing, missing, missing, missing, missing, missing, 2, 0, missing, 0]"
     },
     "metadata": {},
     "execution_count": 5
    }
   ],
   "source": [
    "G[1]"
   ]
  },
  {
   "cell_type": "code",
   "execution_count": 7,
   "metadata": {},
   "outputs": [
    {
     "output_type": "execute_result",
     "data": {
      "text/plain": "28759-element Array{Any,1}:\n   6181\n  12447\n  39051\n  17426\n   6915\n  13271\n  40326\n  18959\n  54296\n  38128\n  10221\n  33839\n  25290\n      ⋮\n 396704\n 396947\n 396952\n 397236\n 398030\n 398104\n 398357\n 398712\n 398716\n 399081\n 737789\n 760882"
     },
     "metadata": {},
     "execution_count": 7
    }
   ],
   "source": [
    "G[1][1]"
   ]
  },
  {
   "cell_type": "code",
   "execution_count": 8,
   "metadata": {},
   "outputs": [
    {
     "output_type": "execute_result",
     "data": {
      "text/plain": "10-element Array{Any,1}:\n  6181\n 12447\n 39051\n 17426\n  6915\n 13271\n 40326\n 18959\n 54296\n 38128"
     },
     "metadata": {},
     "execution_count": 8
    }
   ],
   "source": [
    "G[1][1][1:10]"
   ]
  },
  {
   "cell_type": "code",
   "execution_count": 9,
   "metadata": {},
   "outputs": [
    {
     "output_type": "execute_result",
     "data": {
      "text/plain": "10-element Array{Symbol,1}:\n :RegionID\n :RegionName\n :StateName\n :SizeRank\n Symbol(\"2008-03\")\n Symbol(\"2008-04\")\n Symbol(\"2008-05\")\n Symbol(\"2008-06\")\n Symbol(\"2008-07\")\n Symbol(\"2008-08\")"
     },
     "metadata": {},
     "execution_count": 9
    }
   ],
   "source": [
    "G[2][1:10]"
   ]
  },
  {
   "cell_type": "markdown",
   "metadata": {},
   "source": [
    "- And we can easily store this data in a DataFrame\n",
    "- `DataFrame(G...)` uses the \"splat\" operator to *unwrap* these arrays and pass them to the DataFrame constructor"
   ]
  },
  {
   "cell_type": "code",
   "execution_count": 11,
   "metadata": {},
   "outputs": [
    {
     "output_type": "execute_result",
     "data": {
      "text/plain": "28759×148 DataFrame. Omitted printing of 144 columns\n│ Row   │ RegionID │ RegionName                 │ StateName    │ SizeRank │\n│       │ \u001b[90mAny\u001b[39m      │ \u001b[90mAny\u001b[39m                        │ \u001b[90mAny\u001b[39m          │ \u001b[90mAny\u001b[39m      │\n├───────┼──────────┼────────────────────────────┼──────────────┼──────────┤\n│ 1     │ 6181     │ New York                   │ New York     │ 1        │\n│ 2     │ 12447    │ Los Angeles                │ California   │ 2        │\n│ 3     │ 39051    │ Houston                    │ Texas        │ 3        │\n│ 4     │ 17426    │ Chicago                    │ Illinois     │ 4        │\n│ 5     │ 6915     │ San Antonio                │ Texas        │ 5        │\n│ 6     │ 13271    │ Philadelphia               │ Pennsylvania │ 6        │\n│ 7     │ 40326    │ Phoenix                    │ Arizona      │ 7        │\n│ 8     │ 18959    │ Las Vegas                  │ Nevada       │ 8        │\n│ 9     │ 54296    │ San Diego                  │ California   │ 9        │\n│ 10    │ 38128    │ Dallas                     │ Texas        │ 10       │\n⋮\n│ 28749 │ 396947   │ Beaver Cove Plantation     │ Maine        │ 28749    │\n│ 28750 │ 396952   │ Barnard Plantation         │ Maine        │ 28750    │\n│ 28751 │ 397236   │ Windsor Place              │ Missouri     │ 28751    │\n│ 28752 │ 398030   │ Stockbridge                │ Wisconsin    │ 28752    │\n│ 28753 │ 398104   │ Mattamiscontis             │ Maine        │ 28753    │\n│ 28754 │ 398357   │ Chase Stream               │ Maine        │ 28754    │\n│ 28755 │ 398712   │ Bowdoin College Grant West │ Maine        │ 28755    │\n│ 28756 │ 398716   │ Summerset                  │ South Dakota │ 28756    │\n│ 28757 │ 399081   │ Long Pond                  │ Maine        │ 28757    │\n│ 28758 │ 737789   │ Hideout                    │ Utah         │ 28758    │\n│ 28759 │ 760882   │ Ebeemee                    │ Maine        │ 28759    │",
      "text/html": "<table class=\"data-frame\"><thead><tr><th></th><th>RegionID</th><th>RegionName</th><th>StateName</th><th>SizeRank</th><th>2008-03</th><th>2008-04</th><th>2008-05</th></tr><tr><th></th><th>Any</th><th>Any</th><th>Any</th><th>Any</th><th>Any</th><th>Any</th><th>Any</th></tr></thead><tbody><p>28,759 rows × 148 columns (omitted printing of 141 columns)</p><tr><th>1</th><td>6181</td><td>New York</td><td>New York</td><td>1</td><td><em>missing</em></td><td><em>missing</em></td><td><em>missing</em></td></tr><tr><th>2</th><td>12447</td><td>Los Angeles</td><td>California</td><td>2</td><td>1446</td><td>1705</td><td>1795</td></tr><tr><th>3</th><td>39051</td><td>Houston</td><td>Texas</td><td>3</td><td>2926</td><td>3121</td><td>3220</td></tr><tr><th>4</th><td>17426</td><td>Chicago</td><td>Illinois</td><td>4</td><td>2910</td><td>3022</td><td>2937</td></tr><tr><th>5</th><td>6915</td><td>San Antonio</td><td>Texas</td><td>5</td><td>1479</td><td>1529</td><td>1582</td></tr><tr><th>6</th><td>13271</td><td>Philadelphia</td><td>Pennsylvania</td><td>6</td><td>1609</td><td>1795</td><td>1709</td></tr><tr><th>7</th><td>40326</td><td>Phoenix</td><td>Arizona</td><td>7</td><td>1310</td><td>1519</td><td>1654</td></tr><tr><th>8</th><td>18959</td><td>Las Vegas</td><td>Nevada</td><td>8</td><td>1618</td><td>1856</td><td>1961</td></tr><tr><th>9</th><td>54296</td><td>San Diego</td><td>California</td><td>9</td><td>772</td><td>1057</td><td>1195</td></tr><tr><th>10</th><td>38128</td><td>Dallas</td><td>Texas</td><td>10</td><td>1158</td><td>1232</td><td>1240</td></tr><tr><th>11</th><td>10221</td><td>Austin</td><td>Texas</td><td>11</td><td>997</td><td>1140</td><td>1168</td></tr><tr><th>12</th><td>33839</td><td>San Jose</td><td>California</td><td>12</td><td>455</td><td>555</td><td>583</td></tr><tr><th>13</th><td>25290</td><td>Jacksonville</td><td>Florida</td><td>13</td><td>613</td><td>730</td><td>738</td></tr><tr><th>14</th><td>32149</td><td>Indianapolis</td><td>Indiana</td><td>14</td><td><em>missing</em></td><td><em>missing</em></td><td><em>missing</em></td></tr><tr><th>15</th><td>20330</td><td>San Francisco</td><td>California</td><td>15</td><td>419</td><td>485</td><td>553</td></tr><tr><th>16</th><td>24043</td><td>Charlotte</td><td>North Carolina</td><td>16</td><td>1101</td><td>1201</td><td>1380</td></tr><tr><th>17</th><td>18172</td><td>Fort Worth</td><td>Texas</td><td>17</td><td>862</td><td>1130</td><td>1000</td></tr><tr><th>18</th><td>7481</td><td>Tucson</td><td>Arizona</td><td>18</td><td>737</td><td>841</td><td>842</td></tr><tr><th>19</th><td>10920</td><td>Columbus</td><td>Ohio</td><td>19</td><td>832</td><td>975</td><td>939</td></tr><tr><th>20</th><td>12455</td><td>Louisville</td><td>Kentucky</td><td>20</td><td>881</td><td>1017</td><td>967</td></tr><tr><th>21</th><td>13121</td><td>Orlando</td><td>Florida</td><td>21</td><td>550</td><td>507</td><td>489</td></tr><tr><th>22</th><td>17933</td><td>El Paso</td><td>Texas</td><td>22</td><td><em>missing</em></td><td><em>missing</em></td><td><em>missing</em></td></tr><tr><th>23</th><td>17762</td><td>Detroit</td><td>Michigan</td><td>23</td><td><em>missing</em></td><td><em>missing</em></td><td><em>missing</em></td></tr><tr><th>24</th><td>11093</td><td>Denver</td><td>Colorado</td><td>24</td><td>975</td><td>1076</td><td>1241</td></tr><tr><th>25</th><td>16037</td><td>Seattle</td><td>Washington</td><td>25</td><td>615</td><td>641</td><td>689</td></tr><tr><th>26</th><td>32811</td><td>Memphis</td><td>Tennessee</td><td>26</td><td>872</td><td>802</td><td>775</td></tr><tr><th>27</th><td>44269</td><td>Boston</td><td>Massachusetts</td><td>27</td><td><em>missing</em></td><td><em>missing</em></td><td><em>missing</em></td></tr><tr><th>28</th><td>41568</td><td>Washington</td><td>District of Columbia</td><td>28</td><td>479</td><td>429</td><td>503</td></tr><tr><th>29</th><td>13373</td><td>Portland</td><td>Oregon</td><td>29</td><td>787</td><td>745</td><td>926</td></tr><tr><th>30</th><td>6118</td><td>Nashville</td><td>Tennessee</td><td>30</td><td>671</td><td>778</td><td>779</td></tr><tr><th>&vellip;</th><td>&vellip;</td><td>&vellip;</td><td>&vellip;</td><td>&vellip;</td><td>&vellip;</td><td>&vellip;</td><td>&vellip;</td></tr></tbody></table>",
      "text/latex": "\\begin{tabular}{r|cccccccc}\n\t& RegionID & RegionName & StateName & SizeRank & 2008-03 & 2008-04 & 2008-05 & \\\\\n\t\\hline\n\t& Any & Any & Any & Any & Any & Any & Any & \\\\\n\t\\hline\n\t1 & 6181 & New York & New York & 1 & \\emph{missing} & \\emph{missing} & \\emph{missing} & $\\dots$ \\\\\n\t2 & 12447 & Los Angeles & California & 2 & 1446 & 1705 & 1795 & $\\dots$ \\\\\n\t3 & 39051 & Houston & Texas & 3 & 2926 & 3121 & 3220 & $\\dots$ \\\\\n\t4 & 17426 & Chicago & Illinois & 4 & 2910 & 3022 & 2937 & $\\dots$ \\\\\n\t5 & 6915 & San Antonio & Texas & 5 & 1479 & 1529 & 1582 & $\\dots$ \\\\\n\t6 & 13271 & Philadelphia & Pennsylvania & 6 & 1609 & 1795 & 1709 & $\\dots$ \\\\\n\t7 & 40326 & Phoenix & Arizona & 7 & 1310 & 1519 & 1654 & $\\dots$ \\\\\n\t8 & 18959 & Las Vegas & Nevada & 8 & 1618 & 1856 & 1961 & $\\dots$ \\\\\n\t9 & 54296 & San Diego & California & 9 & 772 & 1057 & 1195 & $\\dots$ \\\\\n\t10 & 38128 & Dallas & Texas & 10 & 1158 & 1232 & 1240 & $\\dots$ \\\\\n\t11 & 10221 & Austin & Texas & 11 & 997 & 1140 & 1168 & $\\dots$ \\\\\n\t12 & 33839 & San Jose & California & 12 & 455 & 555 & 583 & $\\dots$ \\\\\n\t13 & 25290 & Jacksonville & Florida & 13 & 613 & 730 & 738 & $\\dots$ \\\\\n\t14 & 32149 & Indianapolis & Indiana & 14 & \\emph{missing} & \\emph{missing} & \\emph{missing} & $\\dots$ \\\\\n\t15 & 20330 & San Francisco & California & 15 & 419 & 485 & 553 & $\\dots$ \\\\\n\t16 & 24043 & Charlotte & North Carolina & 16 & 1101 & 1201 & 1380 & $\\dots$ \\\\\n\t17 & 18172 & Fort Worth & Texas & 17 & 862 & 1130 & 1000 & $\\dots$ \\\\\n\t18 & 7481 & Tucson & Arizona & 18 & 737 & 841 & 842 & $\\dots$ \\\\\n\t19 & 10920 & Columbus & Ohio & 19 & 832 & 975 & 939 & $\\dots$ \\\\\n\t20 & 12455 & Louisville & Kentucky & 20 & 881 & 1017 & 967 & $\\dots$ \\\\\n\t21 & 13121 & Orlando & Florida & 21 & 550 & 507 & 489 & $\\dots$ \\\\\n\t22 & 17933 & El Paso & Texas & 22 & \\emph{missing} & \\emph{missing} & \\emph{missing} & $\\dots$ \\\\\n\t23 & 17762 & Detroit & Michigan & 23 & \\emph{missing} & \\emph{missing} & \\emph{missing} & $\\dots$ \\\\\n\t24 & 11093 & Denver & Colorado & 24 & 975 & 1076 & 1241 & $\\dots$ \\\\\n\t25 & 16037 & Seattle & Washington & 25 & 615 & 641 & 689 & $\\dots$ \\\\\n\t26 & 32811 & Memphis & Tennessee & 26 & 872 & 802 & 775 & $\\dots$ \\\\\n\t27 & 44269 & Boston & Massachusetts & 27 & \\emph{missing} & \\emph{missing} & \\emph{missing} & $\\dots$ \\\\\n\t28 & 41568 & Washington & District of Columbia & 28 & 479 & 429 & 503 & $\\dots$ \\\\\n\t29 & 13373 & Portland & Oregon & 29 & 787 & 745 & 926 & $\\dots$ \\\\\n\t30 & 6118 & Nashville & Tennessee & 30 & 671 & 778 & 779 & $\\dots$ \\\\\n\t$\\dots$ & $\\dots$ & $\\dots$ & $\\dots$ & $\\dots$ & $\\dots$ & $\\dots$ & $\\dots$ &  \\\\\n\\end{tabular}\n"
     },
     "metadata": {},
     "execution_count": 11
    }
   ],
   "source": [
    "D = DataFrame(G...) # is equivalent to DataFrame(G[1],G[2])"
   ]
  },
  {
   "cell_type": "code",
   "execution_count": 12,
   "metadata": {},
   "outputs": [
    {
     "output_type": "execute_result",
     "data": {
      "text/plain": "51×2 DataFrame\n│ Row │ StateName      │ x1          │\n│     │ \u001b[90mAny\u001b[39m            │ \u001b[90mTuple…\u001b[39m      │\n├─────┼────────────────┼─────────────┤\n│ 1   │ New York       │ (1332, 148) │\n│ 2   │ California     │ (1136, 148) │\n│ 3   │ Texas          │ (1589, 148) │\n│ 4   │ Illinois       │ (1374, 148) │\n│ 5   │ Pennsylvania   │ (2196, 148) │\n│ 6   │ Arizona        │ (207, 148)  │\n│ 7   │ Nevada         │ (90, 148)   │\n│ 8   │ Florida        │ (672, 148)  │\n│ 9   │ Indiana        │ (684, 148)  │\n│ 10  │ North Carolina │ (781, 148)  │\n⋮\n│ 41  │ Connecticut    │ (182, 148)  │\n│ 42  │ Delaware       │ (71, 148)   │\n│ 43  │ Montana        │ (256, 148)  │\n│ 44  │ New Hampshire  │ (240, 148)  │\n│ 45  │ Wyoming        │ (159, 148)  │\n│ 46  │ North Dakota   │ (305, 148)  │\n│ 47  │ Hawaii         │ (65, 148)   │\n│ 48  │ Maine          │ (497, 148)  │\n│ 49  │ West Virginia  │ (522, 148)  │\n│ 50  │ South Dakota   │ (254, 148)  │\n│ 51  │ Vermont        │ (262, 148)  │",
      "text/html": "<table class=\"data-frame\"><thead><tr><th></th><th>StateName</th><th>x1</th></tr><tr><th></th><th>Any</th><th>Tuple…</th></tr></thead><tbody><p>51 rows × 2 columns</p><tr><th>1</th><td>New York</td><td>(1332, 148)</td></tr><tr><th>2</th><td>California</td><td>(1136, 148)</td></tr><tr><th>3</th><td>Texas</td><td>(1589, 148)</td></tr><tr><th>4</th><td>Illinois</td><td>(1374, 148)</td></tr><tr><th>5</th><td>Pennsylvania</td><td>(2196, 148)</td></tr><tr><th>6</th><td>Arizona</td><td>(207, 148)</td></tr><tr><th>7</th><td>Nevada</td><td>(90, 148)</td></tr><tr><th>8</th><td>Florida</td><td>(672, 148)</td></tr><tr><th>9</th><td>Indiana</td><td>(684, 148)</td></tr><tr><th>10</th><td>North Carolina</td><td>(781, 148)</td></tr><tr><th>11</th><td>Ohio</td><td>(1155, 148)</td></tr><tr><th>12</th><td>Kentucky</td><td>(656, 148)</td></tr><tr><th>13</th><td>Michigan</td><td>(870, 148)</td></tr><tr><th>14</th><td>Colorado</td><td>(412, 148)</td></tr><tr><th>15</th><td>Washington</td><td>(466, 148)</td></tr><tr><th>16</th><td>Tennessee</td><td>(528, 148)</td></tr><tr><th>17</th><td>Massachusetts</td><td>(367, 148)</td></tr><tr><th>18</th><td>District of Columbia</td><td>(1, 148)</td></tr><tr><th>19</th><td>Oregon</td><td>(375, 148)</td></tr><tr><th>20</th><td>Maryland</td><td>(422, 148)</td></tr><tr><th>21</th><td>Wisconsin</td><td>(848, 148)</td></tr><tr><th>22</th><td>Nebraska</td><td>(486, 148)</td></tr><tr><th>23</th><td>New Mexico</td><td>(241, 148)</td></tr><tr><th>24</th><td>Oklahoma</td><td>(631, 148)</td></tr><tr><th>25</th><td>Georgia</td><td>(650, 148)</td></tr><tr><th>26</th><td>Missouri</td><td>(1063, 148)</td></tr><tr><th>27</th><td>Virginia</td><td>(678, 148)</td></tr><tr><th>28</th><td>Minnesota</td><td>(907, 148)</td></tr><tr><th>29</th><td>Louisiana</td><td>(432, 148)</td></tr><tr><th>30</th><td>Kansas</td><td>(597, 148)</td></tr><tr><th>&vellip;</th><td>&vellip;</td><td>&vellip;</td></tr></tbody></table>",
      "text/latex": "\\begin{tabular}{r|cc}\n\t& StateName & x1\\\\\n\t\\hline\n\t& Any & Tuple…\\\\\n\t\\hline\n\t1 & New York & (1332, 148) \\\\\n\t2 & California & (1136, 148) \\\\\n\t3 & Texas & (1589, 148) \\\\\n\t4 & Illinois & (1374, 148) \\\\\n\t5 & Pennsylvania & (2196, 148) \\\\\n\t6 & Arizona & (207, 148) \\\\\n\t7 & Nevada & (90, 148) \\\\\n\t8 & Florida & (672, 148) \\\\\n\t9 & Indiana & (684, 148) \\\\\n\t10 & North Carolina & (781, 148) \\\\\n\t11 & Ohio & (1155, 148) \\\\\n\t12 & Kentucky & (656, 148) \\\\\n\t13 & Michigan & (870, 148) \\\\\n\t14 & Colorado & (412, 148) \\\\\n\t15 & Washington & (466, 148) \\\\\n\t16 & Tennessee & (528, 148) \\\\\n\t17 & Massachusetts & (367, 148) \\\\\n\t18 & District of Columbia & (1, 148) \\\\\n\t19 & Oregon & (375, 148) \\\\\n\t20 & Maryland & (422, 148) \\\\\n\t21 & Wisconsin & (848, 148) \\\\\n\t22 & Nebraska & (486, 148) \\\\\n\t23 & New Mexico & (241, 148) \\\\\n\t24 & Oklahoma & (631, 148) \\\\\n\t25 & Georgia & (650, 148) \\\\\n\t26 & Missouri & (1063, 148) \\\\\n\t27 & Virginia & (678, 148) \\\\\n\t28 & Minnesota & (907, 148) \\\\\n\t29 & Louisiana & (432, 148) \\\\\n\t30 & Kansas & (597, 148) \\\\\n\t$\\dots$ & $\\dots$ & $\\dots$ \\\\\n\\end{tabular}\n"
     },
     "metadata": {},
     "execution_count": 12
    }
   ],
   "source": [
    "by(D, :StateName,size)"
   ]
  },
  {
   "cell_type": "code",
   "execution_count": 13,
   "metadata": {},
   "outputs": [
    {
     "output_type": "execute_result",
     "data": {
      "text/plain": "Tuple{Array{Any,1},Array{Symbol,1}}"
     },
     "metadata": {},
     "execution_count": 13
    }
   ],
   "source": [
    "typeof(G)"
   ]
  },
  {
   "cell_type": "markdown",
   "metadata": {},
   "source": [
    "# The join operator"
   ]
  },
  {
   "cell_type": "code",
   "execution_count": 14,
   "metadata": {},
   "outputs": [
    {
     "output_type": "execute_result",
     "data": {
      "text/plain": "4×3 DataFrame\n│ Row │ item     │ calories │ price   │\n│     │ \u001b[90mString\u001b[39m   │ \u001b[90mInt64\u001b[39m    │ \u001b[90mFloat64\u001b[39m │\n├─────┼──────────┼──────────┼─────────┤\n│ 1   │ apple    │ 105      │ 0.85    │\n│ 2   │ cucumber │ 47       │ 1.6     │\n│ 3   │ tomato   │ 22       │ 0.8     │\n│ 4   │ banana   │ 105      │ 0.6     │",
      "text/html": "<table class=\"data-frame\"><thead><tr><th></th><th>item</th><th>calories</th><th>price</th></tr><tr><th></th><th>String</th><th>Int64</th><th>Float64</th></tr></thead><tbody><p>4 rows × 3 columns</p><tr><th>1</th><td>apple</td><td>105</td><td>0.85</td></tr><tr><th>2</th><td>cucumber</td><td>47</td><td>1.6</td></tr><tr><th>3</th><td>tomato</td><td>22</td><td>0.8</td></tr><tr><th>4</th><td>banana</td><td>105</td><td>0.6</td></tr></tbody></table>",
      "text/latex": "\\begin{tabular}{r|ccc}\n\t& item & calories & price\\\\\n\t\\hline\n\t& String & Int64 & Float64\\\\\n\t\\hline\n\t1 & apple & 105 & 0.85 \\\\\n\t2 & cucumber & 47 & 1.6 \\\\\n\t3 & tomato & 22 & 0.8 \\\\\n\t4 & banana & 105 & 0.6 \\\\\n\\end{tabular}\n"
     },
     "metadata": {},
     "execution_count": 14
    }
   ],
   "source": [
    "foods = [\"apple\", \"cucumber\", \"tomato\", \"banana\"]\n",
    "calories = [105,47,22,105]\n",
    "prices = [0.85, 1.6, 0.8, 0.6]\n",
    "dataframe_calories = DataFrame(item=foods, calories=calories)\n",
    "dataframe_prices = DataFrame(item=foods, price=prices)\n",
    "DF = join(dataframe_calories, dataframe_prices, on=:item)"
   ]
  },
  {
   "cell_type": "code",
   "execution_count": 19,
   "metadata": {},
   "outputs": [
    {
     "output_type": "execute_result",
     "data": {
      "text/plain": "9×6 DataFrame\n│ Row │ x1       │ x2           │ x3           │ x4       │ x5      │ x6      │\n│     │ \u001b[90mAny\u001b[39m      │ \u001b[90mAny\u001b[39m          │ \u001b[90mAny\u001b[39m          │ \u001b[90mAny\u001b[39m      │ \u001b[90mAny\u001b[39m     │ \u001b[90mAny\u001b[39m     │\n├─────┼──────────┼──────────────┼──────────────┼──────────┼─────────┼─────────┤\n│ 1   │ RegionID │ RegionName   │ StateName    │ SizeRank │ 2008-03 │ 2008-04 │\n│ 2   │ 6181     │ New York     │ New York     │ 1        │ \u001b[90mmissing\u001b[39m │ \u001b[90mmissing\u001b[39m │\n│ 3   │ 12447    │ Los Angeles  │ California   │ 2        │ 1446    │ 1705    │\n│ 4   │ 39051    │ Houston      │ Texas        │ 3        │ 2926    │ 3121    │\n│ 5   │ 17426    │ Chicago      │ Illinois     │ 4        │ 2910    │ 3022    │\n│ 6   │ 6915     │ San Antonio  │ Texas        │ 5        │ 1479    │ 1529    │\n│ 7   │ 13271    │ Philadelphia │ Pennsylvania │ 6        │ 1609    │ 1795    │\n│ 8   │ 40326    │ Phoenix      │ Arizona      │ 7        │ 1310    │ 1519    │\n│ 9   │ 18959    │ Las Vegas    │ Nevada       │ 8        │ 1618    │ 1856    │",
      "text/html": "<table class=\"data-frame\"><thead><tr><th></th><th>x1</th><th>x2</th><th>x3</th><th>x4</th><th>x5</th><th>x6</th></tr><tr><th></th><th>Any</th><th>Any</th><th>Any</th><th>Any</th><th>Any</th><th>Any</th></tr></thead><tbody><p>9 rows × 6 columns</p><tr><th>1</th><td>RegionID</td><td>RegionName</td><td>StateName</td><td>SizeRank</td><td>2008-03</td><td>2008-04</td></tr><tr><th>2</th><td>6181</td><td>New York</td><td>New York</td><td>1</td><td><em>missing</em></td><td><em>missing</em></td></tr><tr><th>3</th><td>12447</td><td>Los Angeles</td><td>California</td><td>2</td><td>1446</td><td>1705</td></tr><tr><th>4</th><td>39051</td><td>Houston</td><td>Texas</td><td>3</td><td>2926</td><td>3121</td></tr><tr><th>5</th><td>17426</td><td>Chicago</td><td>Illinois</td><td>4</td><td>2910</td><td>3022</td></tr><tr><th>6</th><td>6915</td><td>San Antonio</td><td>Texas</td><td>5</td><td>1479</td><td>1529</td></tr><tr><th>7</th><td>13271</td><td>Philadelphia</td><td>Pennsylvania</td><td>6</td><td>1609</td><td>1795</td></tr><tr><th>8</th><td>40326</td><td>Phoenix</td><td>Arizona</td><td>7</td><td>1310</td><td>1519</td></tr><tr><th>9</th><td>18959</td><td>Las Vegas</td><td>Nevada</td><td>8</td><td>1618</td><td>1856</td></tr></tbody></table>",
      "text/latex": "\\begin{tabular}{r|cccccc}\n\t& x1 & x2 & x3 & x4 & x5 & x6\\\\\n\t\\hline\n\t& Any & Any & Any & Any & Any & Any\\\\\n\t\\hline\n\t1 & RegionID & RegionName & StateName & SizeRank & 2008-03 & 2008-04 \\\\\n\t2 & 6181 & New York & New York & 1 & \\emph{missing} & \\emph{missing} \\\\\n\t3 & 12447 & Los Angeles & California & 2 & 1446 & 1705 \\\\\n\t4 & 39051 & Houston & Texas & 3 & 2926 & 3121 \\\\\n\t5 & 17426 & Chicago & Illinois & 4 & 2910 & 3022 \\\\\n\t6 & 6915 & San Antonio & Texas & 5 & 1479 & 1529 \\\\\n\t7 & 13271 & Philadelphia & Pennsylvania & 6 & 1609 & 1795 \\\\\n\t8 & 40326 & Phoenix & Arizona & 7 & 1310 & 1519 \\\\\n\t9 & 18959 & Las Vegas & Nevada & 8 & 1618 & 1856 \\\\\n\\end{tabular}\n"
     },
     "metadata": {},
     "execution_count": 19
    }
   ],
   "source": [
    "# we can also use the DataFrame contructor on a matrix\n",
    "DataFrame(T)"
   ]
  },
  {
   "cell_type": "code",
   "execution_count": 20,
   "metadata": {},
   "outputs": [],
   "source": [
    "# You can also easily write data to an `XLSX` file\n",
    "XLSX.writetable(\"writefile_using_XLSX.xlsx\", G[1], G[2])"
   ]
  },
  {
   "cell_type": "markdown",
   "metadata": {},
   "source": [
    "# Importing your data 24 min"
   ]
  },
  {
   "cell_type": "code",
   "execution_count": null,
   "metadata": {},
   "outputs": [],
   "source": []
  }
 ],
 "metadata": {
  "kernelspec": {
   "display_name": "Julia 1.5.0",
   "language": "julia",
   "name": "julia-1.5"
  },
  "language_info": {
   "file_extension": ".jl",
   "mimetype": "application/julia",
   "name": "julia",
   "version": "3.8.3-final"
  }
 },
 "nbformat": 4,
 "nbformat_minor": 4
}